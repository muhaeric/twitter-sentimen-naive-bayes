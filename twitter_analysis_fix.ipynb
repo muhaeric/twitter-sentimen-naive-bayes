{
 "cells": [
  {
   "cell_type": "code",
   "execution_count": 255,
   "metadata": {},
   "outputs": [],
   "source": [
    "import sklearn\n",
    "from sklearn.utils import shuffle\n",
    "import pandas as pd\n",
    "import csv\n",
    "import time\n",
    "import nltk"
   ]
  },
  {
   "cell_type": "markdown",
   "metadata": {},
   "source": [
    "## Step 1 Memuat data csv"
   ]
  },
  {
   "cell_type": "code",
   "execution_count": 256,
   "metadata": {},
   "outputs": [
    {
     "data": {
      "text/html": [
       "<div>\n",
       "<style scoped>\n",
       "    .dataframe tbody tr th:only-of-type {\n",
       "        vertical-align: middle;\n",
       "    }\n",
       "\n",
       "    .dataframe tbody tr th {\n",
       "        vertical-align: top;\n",
       "    }\n",
       "\n",
       "    .dataframe thead th {\n",
       "        text-align: right;\n",
       "    }\n",
       "</style>\n",
       "<table border=\"1\" class=\"dataframe\">\n",
       "  <thead>\n",
       "    <tr style=\"text-align: right;\">\n",
       "      <th></th>\n",
       "      <th>Unnamed: 0</th>\n",
       "      <th>username</th>\n",
       "      <th>text</th>\n",
       "      <th>label</th>\n",
       "    </tr>\n",
       "  </thead>\n",
       "  <tbody>\n",
       "    <tr>\n",
       "      <th>0</th>\n",
       "      <td>0</td>\n",
       "      <td>Salman Sudiro</td>\n",
       "      <td>Semalem beli nasgor parkirnya di depan indomar...</td>\n",
       "      <td>irrelevant</td>\n",
       "    </tr>\n",
       "    <tr>\n",
       "      <th>1</th>\n",
       "      <td>1</td>\n",
       "      <td>RIAN PIJAT CIBARUSAH</td>\n",
       "      <td>Tukang parkir sama tukang bakso.\\r\\n\\r\\n\\r\\n\\r...</td>\n",
       "      <td>irrelevant</td>\n",
       "    </tr>\n",
       "    <tr>\n",
       "      <th>2</th>\n",
       "      <td>2</td>\n",
       "      <td>pameranbuku</td>\n",
       "      <td>mbayar lik...\\r\\n\\r\\nsewu po limang ewu, wehke...</td>\n",
       "      <td>irrelevant</td>\n",
       "    </tr>\n",
       "    <tr>\n",
       "      <th>3</th>\n",
       "      <td>3</td>\n",
       "      <td>JuliastutiÃÂ°ÃÂÃÂÃÂ¼</td>\n",
       "      <td>di sedekahin ke tukang parkir annur ae udah</td>\n",
       "      <td>irrelevant</td>\n",
       "    </tr>\n",
       "    <tr>\n",
       "      <th>4</th>\n",
       "      <td>4</td>\n",
       "      <td>Aim Twister</td>\n",
       "      <td>Pacaran itu sama dengan tukang parkir. nda sel...</td>\n",
       "      <td>irrelevant</td>\n",
       "    </tr>\n",
       "  </tbody>\n",
       "</table>\n",
       "</div>"
      ],
      "text/plain": [
       "   Unnamed: 0                    username  \\\n",
       "0           0               Salman Sudiro   \n",
       "1           1        RIAN PIJAT CIBARUSAH   \n",
       "2           2                 pameranbuku   \n",
       "3           3  JuliastutiÃÂ°ÃÂÃÂÃÂ¼   \n",
       "4           4                 Aim Twister   \n",
       "\n",
       "                                                text       label  \n",
       "0  Semalem beli nasgor parkirnya di depan indomar...  irrelevant  \n",
       "1  Tukang parkir sama tukang bakso.\\r\\n\\r\\n\\r\\n\\r...  irrelevant  \n",
       "2  mbayar lik...\\r\\n\\r\\nsewu po limang ewu, wehke...  irrelevant  \n",
       "3        di sedekahin ke tukang parkir annur ae udah  irrelevant  \n",
       "4  Pacaran itu sama dengan tukang parkir. nda sel...  irrelevant  "
      ]
     },
     "execution_count": 256,
     "metadata": {},
     "output_type": "execute_result"
    }
   ],
   "source": [
    "df = pd.read_csv(\"coba2.csv\", encoding = 'ISO-8859-1')\n",
    "df.text=df.text.astype(str) ##mengubah data row text menjadi string\n",
    "#df = shuffle(df) #diacak agar random ??\n",
    "#df.reset_index(inplace = True) #memberi urutan baru pada data yg telah dirandom\n",
    "#df.drop(['index'], inplace = True, axis = 1) #membuang index lama\n",
    "df.head() #menampilan sample"
   ]
  },
  {
   "cell_type": "code",
   "execution_count": 257,
   "metadata": {},
   "outputs": [
    {
     "data": {
      "text/html": [
       "<div>\n",
       "<style scoped>\n",
       "    .dataframe tbody tr th:only-of-type {\n",
       "        vertical-align: middle;\n",
       "    }\n",
       "\n",
       "    .dataframe tbody tr th {\n",
       "        vertical-align: top;\n",
       "    }\n",
       "\n",
       "    .dataframe thead th {\n",
       "        text-align: right;\n",
       "    }\n",
       "</style>\n",
       "<table border=\"1\" class=\"dataframe\">\n",
       "  <thead>\n",
       "    <tr style=\"text-align: right;\">\n",
       "      <th></th>\n",
       "      <th>Unnamed: 0</th>\n",
       "      <th>username</th>\n",
       "      <th>text</th>\n",
       "    </tr>\n",
       "    <tr>\n",
       "      <th>label</th>\n",
       "      <th></th>\n",
       "      <th></th>\n",
       "      <th></th>\n",
       "    </tr>\n",
       "  </thead>\n",
       "  <tbody>\n",
       "    <tr>\n",
       "      <th>irrelevant</th>\n",
       "      <td>4160</td>\n",
       "      <td>4160</td>\n",
       "      <td>4160</td>\n",
       "    </tr>\n",
       "    <tr>\n",
       "      <th>negative</th>\n",
       "      <td>598</td>\n",
       "      <td>598</td>\n",
       "      <td>598</td>\n",
       "    </tr>\n",
       "    <tr>\n",
       "      <th>positive</th>\n",
       "      <td>420</td>\n",
       "      <td>420</td>\n",
       "      <td>420</td>\n",
       "    </tr>\n",
       "  </tbody>\n",
       "</table>\n",
       "</div>"
      ],
      "text/plain": [
       "            Unnamed: 0  username  text\n",
       "label                                 \n",
       "irrelevant        4160      4160  4160\n",
       "negative           598       598   598\n",
       "positive           420       420   420"
      ]
     },
     "execution_count": 257,
     "metadata": {},
     "output_type": "execute_result"
    }
   ],
   "source": [
    "df.head()\n",
    "df.groupby('label').count() #memfilter data berdasarkan label"
   ]
  },
  {
   "cell_type": "code",
   "execution_count": null,
   "metadata": {},
   "outputs": [],
   "source": []
  },
  {
   "cell_type": "code",
   "execution_count": 258,
   "metadata": {},
   "outputs": [
    {
     "data": {
      "text/plain": [
       "(5179, 4)"
      ]
     },
     "execution_count": 258,
     "metadata": {},
     "output_type": "execute_result"
    }
   ],
   "source": [
    "df.shape #validasi bentuk tabel"
   ]
  },
  {
   "cell_type": "code",
   "execution_count": 259,
   "metadata": {},
   "outputs": [
    {
     "data": {
      "text/plain": [
       "0    Semalem beli nasgor parkirnya di depan indomar...\n",
       "1    Tukang parkir sama tukang bakso.\\r\\n\\r\\n\\r\\n\\r...\n",
       "2    mbayar lik...\\r\\n\\r\\nsewu po limang ewu, wehke...\n",
       "3          di sedekahin ke tukang parkir annur ae udah\n",
       "4    Pacaran itu sama dengan tukang parkir. nda sel...\n",
       "Name: text, dtype: object"
      ]
     },
     "execution_count": 259,
     "metadata": {},
     "output_type": "execute_result"
    }
   ],
   "source": [
    "text = df['text'] #memasukan text kedalam var datatrain\n",
    "label = df['label'] #memasukan label kedalam var datatrain\n",
    "\n",
    "text.head()"
   ]
  },
  {
   "cell_type": "code",
   "execution_count": 260,
   "metadata": {},
   "outputs": [
    {
     "data": {
      "text/plain": [
       "0       Semalem beli nasgor parkirnya di depan indomar...\n",
       "1       Tukang parkir sama tukang bakso.\\r\\n\\r\\n\\r\\n\\r...\n",
       "2       mbayar lik...\\r\\n\\r\\nsewu po limang ewu, wehke...\n",
       "3             di sedekahin ke tukang parkir annur ae udah\n",
       "4       Pacaran itu sama dengan tukang parkir. nda sel...\n",
       "5       Oh itu pacar kamu. Ko mirip tukang parkir di k...\n",
       "6       Pacaran itu sama seperti tukang parkir, ada sa...\n",
       "7       Tukang parkir indomart depan polsek ciputat, k...\n",
       "8       Pak tolong di respond ini wilayah bapak2 sekal...\n",
       "9       Sering. Siman tukang parkir gudeg ngarep toko ...\n",
       "10      Ardhito ga salah, netizen ga salah, yang salah...\n",
       "11      Percaya aja sm tukang parkir yg sering mengara...\n",
       "12                         tukang parkir terkeren sedunia\n",
       "13      Ini tukang parkir pada minum2 dan pasang musik...\n",
       "14                      Yongalah, tukang parkir ae 2 ribu\n",
       "15      Maneh tukang parkir, wajar atuh orang ngasih d...\n",
       "16      iya tukang parkir sama mbak mbak yang nyiramin...\n",
       "17      ÃÂ¢ÃÂÃÂPake org dalamÃÂ¢ÃÂÃÂ pake si...\n",
       "18      tukang parkir gk bertnggung jawab jancok helmk...\n",
       "19      Semalem beli nasgor parkirnya di depan indomar...\n",
       "20      Tukang parkir sama tukang bakso.\\r\\n\\r\\n\\r\\n\\r...\n",
       "21        harusnya tukang parkir itu dihapus aja gak guna\n",
       "22            di sedekahin ke tukang parkir annur ae udah\n",
       "23      Pacaran itu sama dengan tukang parkir. nda sel...\n",
       "24      Oh itu pacar kamu. Ko mirip tukang parkir di k...\n",
       "25      Pacaran itu sama seperti tukang parkir, ada sa...\n",
       "26      Tukang parkir indomart depan polsek ciputat, k...\n",
       "27      Pak tolong di respond ini wilayah bapak2 sekal...\n",
       "28      Sering. Siman tukang parkir gudeg ngarep toko ...\n",
       "29      Ardhito ga salah, netizen ga salah, yang salah...\n",
       "                              ...                        \n",
       "5149    Pingin iso nyanyi koyo parker cannon tp ambek ...\n",
       "5150     Aku pernah juga menemukan tukang parkir baik bgt\n",
       "5151    Bahagia sekali menemukan tukang parkir yang ba...\n",
       "5152                     malah dikasihin ke tukang parkir\n",
       "5153    abis ngobrol sama tukang parkir,jadinya pengen...\n",
       "5154             Sek moto mesti tukang parkir @andrey25__\n",
       "5155    Bukannya lu tukang parkir depan rita alun alun...\n",
       "5156                                  Tukang parkir kalii\n",
       "5157    Alah sia. Kemaren tukang parkir indomaret wakt...\n",
       "5158    Goodjob bang, selain jd tukang parkir jd tukan...\n",
       "5159                              tukang parkir indomaret\n",
       "5160    disamain sama tukang parkir. https://twitter.c...\n",
       "5161    Personil Patroli berdialog dengan tukang parki...\n",
       "5162                                 Tukang parkir wkwkkw\n",
       "5163                 Tukang parkir? mc? pemimpin barisan?\n",
       "5164    Pengen jadi tukang parkir aja deh Percuma chat...\n",
       "5165    Kamu tattooan palingan jadi bajingan,preman,tu...\n",
       "5166    o...yang \"merah\" ntu....\\r\\n\\r\\npunya tukang p...\n",
       "5167    Tukang parkir dimalang ni jahat banget, sampe ...\n",
       "5168    Tukang Parkir Lancarkan Aksi Tuntut Berantas P...\n",
       "5169    Tukang parkir ajala,\\r\\n\\r\\nbiar bisa parkirin...\n",
       "5170                             Engga, tukang parkir????\n",
       "5171                 tukang burger apa tukang parkir nih?\n",
       "5172    Yaaa ampon malang isine kok tukang parkir ae, ...\n",
       "5173    Pas dikondangan\\r\\n\\r\\nPacaran: ini kenalin, p...\n",
       "5174    Mau beli tesla biar suara starter mobilnya ngg...\n",
       "5175                           Mana ada tukang parkir :))\n",
       "5176                   Kalo ga ada tukang parkir berbayar\n",
       "5177    Aiptu Martua Ps.Panit 1 Binmas melaksanakan sa...\n",
       "5178                                                  nan\n",
       "Name: text, Length: 5179, dtype: object"
      ]
     },
     "execution_count": 260,
     "metadata": {},
     "output_type": "execute_result"
    }
   ],
   "source": [
    "text"
   ]
  },
  {
   "cell_type": "markdown",
   "metadata": {},
   "source": [
    "## Preprocessing"
   ]
  },
  {
   "cell_type": "code",
   "execution_count": 261,
   "metadata": {},
   "outputs": [],
   "source": [
    "import re\n",
    "import string\n",
    "\n",
    "text = text.apply(lambda x : x.lower()) #casefolding\n",
    "text = text.apply(lambda x : re.sub('((www\\.[^\\s]+)|(https?://[^\\s]+))', '', x)) #\n",
    "text = text.apply(lambda x : re.sub('@[^\\s]+', '', x))\n",
    "text = text.apply(lambda x : x.replace('[^\\w\\s]',' '))\n",
    "text = text.apply(lambda x :re.sub(r'#([^\\s]+)', r'\\1', x))\n",
    "text = text.apply(lambda x : re.sub('[^A-Za-z0-9 ]', '', x))\n",
    "\n",
    "\n",
    "# y_train = y_train.apply(lambda x : x.replace(' ','', x))"
   ]
  },
  {
   "cell_type": "code",
   "execution_count": 262,
   "metadata": {},
   "outputs": [
    {
     "data": {
      "text/plain": [
       "0    semalem beli nasgor parkirnya di depan indomar...\n",
       "1    tukang parkir sama tukang baksopada di tanya t...\n",
       "2    mbayar liksewu po limang ewu wehke tukang park...\n",
       "3          di sedekahin ke tukang parkir annur ae udah\n",
       "4    pacaran itu sama dengan tukang parkir nda sela...\n",
       "Name: text, dtype: object"
      ]
     },
     "execution_count": 262,
     "metadata": {},
     "output_type": "execute_result"
    }
   ],
   "source": [
    "text.head()"
   ]
  },
  {
   "cell_type": "markdown",
   "metadata": {},
   "source": [
    "### Tokenisasi"
   ]
  },
  {
   "cell_type": "code",
   "execution_count": 263,
   "metadata": {},
   "outputs": [
    {
     "data": {
      "text/plain": [
       "0    [semalem, beli, nasgor, parkirnya, di, depan, ...\n",
       "1    [tukang, parkir, sama, tukang, baksopada, di, ...\n",
       "2    [mbayar, liksewu, po, limang, ewu, wehke, tuka...\n",
       "3    [di, sedekahin, ke, tukang, parkir, annur, ae,...\n",
       "4    [pacaran, itu, sama, dengan, tukang, parkir, n...\n",
       "Name: text, dtype: object"
      ]
     },
     "execution_count": 263,
     "metadata": {},
     "output_type": "execute_result"
    }
   ],
   "source": [
    "tokenized_tweet = text.apply(lambda x: x.split())\n",
    "\n",
    "tokenized_tweet.head()"
   ]
  },
  {
   "cell_type": "code",
   "execution_count": 264,
   "metadata": {},
   "outputs": [
    {
     "ename": "TypeError",
     "evalue": "descriptor 'lower' requires a 'str' object but received a 'Series'",
     "output_type": "error",
     "traceback": [
      "\u001b[1;31m---------------------------------------------------------------------------\u001b[0m",
      "\u001b[1;31mTypeError\u001b[0m                                 Traceback (most recent call last)",
      "\u001b[1;32m<ipython-input-264-cab9a2b22b15>\u001b[0m in \u001b[0;36m<module>\u001b[1;34m()\u001b[0m\n\u001b[0;32m      8\u001b[0m \u001b[1;31m# stemming process\u001b[0m\u001b[1;33m\u001b[0m\u001b[1;33m\u001b[0m\u001b[0m\n\u001b[0;32m      9\u001b[0m \u001b[0msentence\u001b[0m \u001b[1;33m=\u001b[0m \u001b[0mdf\u001b[0m\u001b[1;33m.\u001b[0m\u001b[0mtext\u001b[0m\u001b[1;33m\u001b[0m\u001b[0m\n\u001b[1;32m---> 10\u001b[1;33m \u001b[0moutput\u001b[0m   \u001b[1;33m=\u001b[0m \u001b[0mstemmer\u001b[0m\u001b[1;33m.\u001b[0m\u001b[0mstem\u001b[0m\u001b[1;33m(\u001b[0m\u001b[0msentence\u001b[0m\u001b[1;33m)\u001b[0m\u001b[1;33m\u001b[0m\u001b[0m\n\u001b[0m\u001b[0;32m     11\u001b[0m \u001b[1;33m\u001b[0m\u001b[0m\n\u001b[0;32m     12\u001b[0m \u001b[0mprint\u001b[0m\u001b[1;33m(\u001b[0m\u001b[0moutput\u001b[0m\u001b[1;33m)\u001b[0m\u001b[1;33m\u001b[0m\u001b[0m\n",
      "\u001b[1;32m~\\Anaconda3\\lib\\site-packages\\Sastrawi\\Stemmer\\CachedStemmer.py\u001b[0m in \u001b[0;36mstem\u001b[1;34m(self, text)\u001b[0m\n\u001b[0;32m      9\u001b[0m \u001b[1;33m\u001b[0m\u001b[0m\n\u001b[0;32m     10\u001b[0m     \u001b[1;32mdef\u001b[0m \u001b[0mstem\u001b[0m\u001b[1;33m(\u001b[0m\u001b[0mself\u001b[0m\u001b[1;33m,\u001b[0m \u001b[0mtext\u001b[0m\u001b[1;33m)\u001b[0m\u001b[1;33m:\u001b[0m\u001b[1;33m\u001b[0m\u001b[0m\n\u001b[1;32m---> 11\u001b[1;33m         \u001b[0mnormalizedText\u001b[0m \u001b[1;33m=\u001b[0m \u001b[0mTextNormalizer\u001b[0m\u001b[1;33m.\u001b[0m\u001b[0mnormalize_text\u001b[0m\u001b[1;33m(\u001b[0m\u001b[0mtext\u001b[0m\u001b[1;33m)\u001b[0m\u001b[1;33m\u001b[0m\u001b[0m\n\u001b[0m\u001b[0;32m     12\u001b[0m \u001b[1;33m\u001b[0m\u001b[0m\n\u001b[0;32m     13\u001b[0m         \u001b[0mwords\u001b[0m \u001b[1;33m=\u001b[0m \u001b[0mnormalizedText\u001b[0m\u001b[1;33m.\u001b[0m\u001b[0msplit\u001b[0m\u001b[1;33m(\u001b[0m\u001b[1;34m' '\u001b[0m\u001b[1;33m)\u001b[0m\u001b[1;33m\u001b[0m\u001b[0m\n",
      "\u001b[1;32m~\\Anaconda3\\lib\\site-packages\\Sastrawi\\Stemmer\\Filter\\TextNormalizer.py\u001b[0m in \u001b[0;36mnormalize_text\u001b[1;34m(text)\u001b[0m\n\u001b[0;32m      2\u001b[0m \u001b[1;33m\u001b[0m\u001b[0m\n\u001b[0;32m      3\u001b[0m \u001b[1;32mdef\u001b[0m \u001b[0mnormalize_text\u001b[0m\u001b[1;33m(\u001b[0m\u001b[0mtext\u001b[0m\u001b[1;33m)\u001b[0m\u001b[1;33m:\u001b[0m\u001b[1;33m\u001b[0m\u001b[0m\n\u001b[1;32m----> 4\u001b[1;33m     \u001b[0mresult\u001b[0m \u001b[1;33m=\u001b[0m \u001b[0mstr\u001b[0m\u001b[1;33m.\u001b[0m\u001b[0mlower\u001b[0m\u001b[1;33m(\u001b[0m\u001b[0mtext\u001b[0m\u001b[1;33m)\u001b[0m\u001b[1;33m\u001b[0m\u001b[0m\n\u001b[0m\u001b[0;32m      5\u001b[0m     \u001b[0mresult\u001b[0m \u001b[1;33m=\u001b[0m \u001b[0mre\u001b[0m\u001b[1;33m.\u001b[0m\u001b[0msub\u001b[0m\u001b[1;33m(\u001b[0m\u001b[1;34mr'[^a-z0-9 -]'\u001b[0m\u001b[1;33m,\u001b[0m \u001b[1;34m' '\u001b[0m\u001b[1;33m,\u001b[0m \u001b[0mresult\u001b[0m\u001b[1;33m,\u001b[0m \u001b[0mflags\u001b[0m \u001b[1;33m=\u001b[0m \u001b[0mre\u001b[0m\u001b[1;33m.\u001b[0m\u001b[0mIGNORECASE\u001b[0m\u001b[1;33m|\u001b[0m\u001b[0mre\u001b[0m\u001b[1;33m.\u001b[0m\u001b[0mMULTILINE\u001b[0m\u001b[1;33m)\u001b[0m\u001b[1;33m\u001b[0m\u001b[0m\n\u001b[0;32m      6\u001b[0m     \u001b[0mresult\u001b[0m \u001b[1;33m=\u001b[0m \u001b[0mre\u001b[0m\u001b[1;33m.\u001b[0m\u001b[0msub\u001b[0m\u001b[1;33m(\u001b[0m\u001b[1;34mr'( +)'\u001b[0m\u001b[1;33m,\u001b[0m \u001b[1;34m' '\u001b[0m\u001b[1;33m,\u001b[0m \u001b[0mresult\u001b[0m\u001b[1;33m,\u001b[0m \u001b[0mflags\u001b[0m \u001b[1;33m=\u001b[0m \u001b[0mre\u001b[0m\u001b[1;33m.\u001b[0m\u001b[0mIGNORECASE\u001b[0m\u001b[1;33m|\u001b[0m\u001b[0mre\u001b[0m\u001b[1;33m.\u001b[0m\u001b[0mMULTILINE\u001b[0m\u001b[1;33m)\u001b[0m\u001b[1;33m\u001b[0m\u001b[0m\n",
      "\u001b[1;31mTypeError\u001b[0m: descriptor 'lower' requires a 'str' object but received a 'Series'"
     ]
    }
   ],
   "source": [
    "# import StemmerFactory class\n",
    "from Sastrawi.Stemmer.StemmerFactory import StemmerFactory\n",
    "\n",
    "# create stemmer\n",
    "factory = StemmerFactory()\n",
    "stemmer = factory.create_stemmer()\n",
    "\n",
    "# stemming process\n",
    "sentence = df.text\n",
    "output   = stemmer.stem(sentence)\n",
    "\n",
    "print(output)\n",
    "# ekonomi indonesia sedang dalam tumbuh yang bangga\n"
   ]
  },
  {
   "cell_type": "code",
   "execution_count": null,
   "metadata": {},
   "outputs": [],
   "source": []
  },
  {
   "cell_type": "code",
   "execution_count": null,
   "metadata": {},
   "outputs": [],
   "source": []
  },
  {
   "cell_type": "code",
   "execution_count": null,
   "metadata": {},
   "outputs": [],
   "source": []
  },
  {
   "cell_type": "code",
   "execution_count": null,
   "metadata": {},
   "outputs": [],
   "source": []
  },
  {
   "cell_type": "code",
   "execution_count": null,
   "metadata": {},
   "outputs": [],
   "source": []
  },
  {
   "cell_type": "code",
   "execution_count": null,
   "metadata": {},
   "outputs": [],
   "source": []
  },
  {
   "cell_type": "code",
   "execution_count": null,
   "metadata": {},
   "outputs": [],
   "source": []
  },
  {
   "cell_type": "code",
   "execution_count": null,
   "metadata": {},
   "outputs": [],
   "source": []
  },
  {
   "cell_type": "code",
   "execution_count": null,
   "metadata": {},
   "outputs": [],
   "source": []
  },
  {
   "cell_type": "code",
   "execution_count": null,
   "metadata": {},
   "outputs": [],
   "source": []
  },
  {
   "cell_type": "code",
   "execution_count": null,
   "metadata": {},
   "outputs": [],
   "source": []
  }
 ],
 "metadata": {
  "kernelspec": {
   "display_name": "Python 3",
   "language": "python",
   "name": "python3"
  },
  "language_info": {
   "codemirror_mode": {
    "name": "ipython",
    "version": 3
   },
   "file_extension": ".py",
   "mimetype": "text/x-python",
   "name": "python",
   "nbconvert_exporter": "python",
   "pygments_lexer": "ipython3",
   "version": "3.6.5"
  }
 },
 "nbformat": 4,
 "nbformat_minor": 2
}
