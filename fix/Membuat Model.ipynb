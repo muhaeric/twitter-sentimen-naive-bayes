{
 "cells": [
  {
   "cell_type": "markdown",
   "metadata": {},
   "source": [
    "## Load data yang sudah di preprocessing"
   ]
  },
  {
   "cell_type": "code",
   "execution_count": 1,
   "metadata": {},
   "outputs": [],
   "source": [
    "import pandas as pd"
   ]
  },
  {
   "cell_type": "code",
   "execution_count": 2,
   "metadata": {},
   "outputs": [
    {
     "data": {
      "text/html": [
       "<div>\n",
       "<style scoped>\n",
       "    .dataframe tbody tr th:only-of-type {\n",
       "        vertical-align: middle;\n",
       "    }\n",
       "\n",
       "    .dataframe tbody tr th {\n",
       "        vertical-align: top;\n",
       "    }\n",
       "\n",
       "    .dataframe thead th {\n",
       "        text-align: right;\n",
       "    }\n",
       "</style>\n",
       "<table border=\"1\" class=\"dataframe\">\n",
       "  <thead>\n",
       "    <tr style=\"text-align: right;\">\n",
       "      <th></th>\n",
       "      <th>username</th>\n",
       "      <th>text</th>\n",
       "      <th>label</th>\n",
       "    </tr>\n",
       "  </thead>\n",
       "  <tbody>\n",
       "    <tr>\n",
       "      <th>0</th>\n",
       "      <td>Salman Sudiro</td>\n",
       "      <td>semalem beli nasgor parkir depan indomart pas ...</td>\n",
       "      <td>0</td>\n",
       "    </tr>\n",
       "    <tr>\n",
       "      <th>1</th>\n",
       "      <td>RIAN PIJAT CIBARUSAH</td>\n",
       "      <td>tukang parkir sama tukang bakso tanya tanya grup</td>\n",
       "      <td>0</td>\n",
       "    </tr>\n",
       "    <tr>\n",
       "      <th>2</th>\n",
       "      <td>pameranbuku</td>\n",
       "      <td>mbayar lik sewu po limang ewu wehke tukang par...</td>\n",
       "      <td>0</td>\n",
       "    </tr>\n",
       "    <tr>\n",
       "      <th>3</th>\n",
       "      <td>JuliastutiÃ°ÂÂÂ¼</td>\n",
       "      <td>sedekahin tukang parkir annur</td>\n",
       "      <td>0</td>\n",
       "    </tr>\n",
       "    <tr>\n",
       "      <th>4</th>\n",
       "      <td>Aim Twister</td>\n",
       "      <td>pacar sama tukang parkir indak lama terus teru...</td>\n",
       "      <td>0</td>\n",
       "    </tr>\n",
       "  </tbody>\n",
       "</table>\n",
       "</div>"
      ],
      "text/plain": [
       "               username                                               text  \\\n",
       "0         Salman Sudiro  semalem beli nasgor parkir depan indomart pas ...   \n",
       "1  RIAN PIJAT CIBARUSAH   tukang parkir sama tukang bakso tanya tanya grup   \n",
       "2           pameranbuku  mbayar lik sewu po limang ewu wehke tukang par...   \n",
       "3    JuliastutiÃ°ÂÂÂ¼                      sedekahin tukang parkir annur   \n",
       "4           Aim Twister  pacar sama tukang parkir indak lama terus teru...   \n",
       "\n",
       "   label  \n",
       "0      0  \n",
       "1      0  \n",
       "2      0  \n",
       "3      0  \n",
       "4      0  "
      ]
     },
     "execution_count": 2,
     "metadata": {},
     "output_type": "execute_result"
    }
   ],
   "source": [
    "data = pd.read_csv(\"data_clean.csv\")\n",
    "data.head()"
   ]
  },
  {
   "cell_type": "markdown",
   "metadata": {},
   "source": [
    "## Split data (data train, data test)"
   ]
  },
  {
   "cell_type": "code",
   "execution_count": 3,
   "metadata": {},
   "outputs": [],
   "source": [
    "from sklearn.model_selection import train_test_split"
   ]
  },
  {
   "cell_type": "code",
   "execution_count": 4,
   "metadata": {},
   "outputs": [],
   "source": [
    "tweet = data.text\n",
    "label = data.label"
   ]
  },
  {
   "cell_type": "code",
   "execution_count": 5,
   "metadata": {},
   "outputs": [],
   "source": [
    "tweet_train, tweet_test, label_train, label_test = train_test_split(tweet,label,test_size=0.3, random_state=0)"
   ]
  },
  {
   "cell_type": "code",
   "execution_count": 6,
   "metadata": {},
   "outputs": [
    {
     "name": "stdout",
     "output_type": "stream",
     "text": [
      "Jumlah Data tweet_train :  1015\n",
      "Jumlah Data label_train :  1015\n",
      "Jumlah Data tweet_test :  435\n",
      "Jumlah Data label_test :  435\n"
     ]
    }
   ],
   "source": [
    "print('Jumlah Data tweet_train : ',len(tweet_train))\n",
    "print('Jumlah Data label_train : ',len(label_train))\n",
    "print('Jumlah Data tweet_test : ',len(tweet_test))\n",
    "print('Jumlah Data label_test : ',len(label_test)) "
   ]
  },
  {
   "cell_type": "markdown",
   "metadata": {},
   "source": [
    "## TF-IDF Vectorizer"
   ]
  },
  {
   "cell_type": "code",
   "execution_count": 7,
   "metadata": {},
   "outputs": [],
   "source": [
    "from sklearn.feature_extraction.text import TfidfVectorizer\n",
    "tfvec = TfidfVectorizer()"
   ]
  },
  {
   "cell_type": "code",
   "execution_count": 8,
   "metadata": {},
   "outputs": [],
   "source": [
    "from sklearn.naive_bayes import MultinomialNB\n",
    "from sklearn.pipeline import Pipeline"
   ]
  },
  {
   "cell_type": "code",
   "execution_count": 9,
   "metadata": {},
   "outputs": [],
   "source": [
    "clf_mnb = MultinomialNB()"
   ]
  },
  {
   "cell_type": "code",
   "execution_count": 10,
   "metadata": {},
   "outputs": [],
   "source": [
    "#membuat pipeline MNB()\n",
    "model_mnb = Pipeline([('tfidf', tfvec),\n",
    "                 ('classifier', clf_mnb)])"
   ]
  },
  {
   "cell_type": "code",
   "execution_count": 11,
   "metadata": {},
   "outputs": [
    {
     "data": {
      "text/plain": [
       "Pipeline(memory=None,\n",
       "     steps=[('tfidf', TfidfVectorizer(analyzer='word', binary=False, decode_error='strict',\n",
       "        dtype=<class 'numpy.int64'>, encoding='utf-8', input='content',\n",
       "        lowercase=True, max_df=1.0, max_features=None, min_df=1,\n",
       "        ngram_range=(1, 1), norm='l2', preprocessor=None, smooth_idf=True,\n",
       " ...      vocabulary=None)), ('classifier', MultinomialNB(alpha=1.0, class_prior=None, fit_prior=True))])"
      ]
     },
     "execution_count": 11,
     "metadata": {},
     "output_type": "execute_result"
    }
   ],
   "source": [
    "#Train data X dan y menggunakan BernoulliNB()\n",
    "model_mnb.fit(tweet_train, label_train)"
   ]
  },
  {
   "cell_type": "code",
   "execution_count": 12,
   "metadata": {},
   "outputs": [],
   "source": [
    "hasil_mnb = model_mnb.predict(tweet_test)"
   ]
  },
  {
   "cell_type": "code",
   "execution_count": 13,
   "metadata": {},
   "outputs": [],
   "source": [
    "from sklearn.metrics import accuracy_score, confusion_matrix, classification_report"
   ]
  },
  {
   "cell_type": "code",
   "execution_count": 14,
   "metadata": {},
   "outputs": [
    {
     "data": {
      "text/plain": [
       "array([[ 48,   7,   9],\n",
       "       [ 61, 170,  58],\n",
       "       [ 14,   9,  59]], dtype=int64)"
      ]
     },
     "execution_count": 14,
     "metadata": {},
     "output_type": "execute_result"
    }
   ],
   "source": [
    "confusion_matrix(hasil_mnb, label_test)"
   ]
  },
  {
   "cell_type": "code",
   "execution_count": 16,
   "metadata": {},
   "outputs": [
    {
     "data": {
      "image/png": "[encoded data removed]",
      "text/plain": [
       "<Figure size 576x360 with 2 Axes>"
      ]
     },
     "metadata": {},
     "output_type": "display_data"
    }
   ],
   "source": [
    "import seaborn as sns\n",
    "import matplotlib.pyplot as plt\n",
    "\n",
    "f, ax = plt.subplots(figsize=(8, 5))\n",
    "sns.heatmap(confusion_matrix(label_test, hasil_mnb), annot=True, fmt=\".0f\", ax=ax)\n",
    "plt.xlabel(\"Prediksi Label\")\n",
    "plt.ylabel(\"Label Benar\")\n",
    "plt.show()"
   ]
  },
  {
   "cell_type": "code",
   "execution_count": 17,
   "metadata": {},
   "outputs": [
    {
     "name": "stdout",
     "output_type": "stream",
     "text": [
      "Prediksi tweet baik: 82\n",
      "Prediksi tweet kurang baik: 289\n",
      "Prediksi tweet irelevant: 64\n",
      "Persentase tweet baik = 18.85 %\n",
      "Ketelitian = 63.68 %\n"
     ]
    }
   ],
   "source": [
    "#Convert hasil ke list (hasil tadinya dalam bentuk ndarray)\n",
    "\n",
    "l_hasil = list(hasil_mnb)\n",
    "print(\"Prediksi tweet baik: \" + str(l_hasil.count(2)))\n",
    "print(\"Prediksi tweet kurang baik: \" + str(l_hasil.count(1)))\n",
    "print(\"Prediksi tweet irelevant: \" + str(l_hasil.count(0)))\n",
    "\n",
    "num = 100*(l_hasil.count(2)/tweet_test.count())\n",
    "\n",
    "print(\"Persentase tweet baik = {:.2f} %\".format(num)) \n",
    "\n",
    "acc = 100*accuracy_score(hasil_mnb,label_test)\n",
    "\n",
    "print(\"Ketelitian = {:.2f} %\".format(acc))"
   ]
  },
  {
   "cell_type": "code",
   "execution_count": 18,
   "metadata": {},
   "outputs": [
    {
     "data": {
      "image/png": "[encoded data removed]",
      "text/plain": [
       "<Figure size 432x288 with 1 Axes>"
      ]
     },
     "metadata": {},
     "output_type": "display_data"
    }
   ],
   "source": [
    "import matplotlib.pyplot as plt\n",
    "\n",
    "sizes = [l_hasil.count(2), l_hasil.count(1),  l_hasil.count(0)]\n",
    "labels = ['positive','negative', 'irrelevant']\n",
    "colors = ['gray', 'blue', 'red']\n",
    "explode = (0.1,0,0)\n",
    "\n",
    "#patches, texts = plt.pie(sizes, colors=colors, startangle=-270)\n",
    "\n",
    "fig1, ax1 = plt.subplots()\n",
    "ax1.pie(sizes, explode=explode, labels=labels, autopct='%1.1f%%',\n",
    "        shadow=True, startangle=90, colors=colors)\n",
    "ax1.axis('equal')  # Equal aspect ratio ensures that pie is drawn as a circle.\n",
    "\n",
    "plt.legend(labels, loc=\"best\")\n",
    "plt.show()"
   ]
  },
  {
   "cell_type": "code",
   "execution_count": 19,
   "metadata": {},
   "outputs": [],
   "source": [
    "import numpy as np"
   ]
  },
  {
   "cell_type": "code",
   "execution_count": 28,
   "metadata": {},
   "outputs": [
    {
     "name": "stdout",
     "output_type": "stream",
     "text": [
      "[1]\n"
     ]
    }
   ],
   "source": [
    "coba = np.array([\"tukang parkir sopan\"])\n",
    "coba_vector = tfvec.transform(coba) \n",
    "sentimen = clf_mnb.predict(coba_vector)\n",
    "print(sentimen)"
   ]
  },
  {
   "cell_type": "code",
   "execution_count": 29,
   "metadata": {},
   "outputs": [],
   "source": [
    "from sklearn.metrics import accuracy_score, confusion_matrix, classification_report"
   ]
  },
  {
   "cell_type": "code",
   "execution_count": 30,
   "metadata": {},
   "outputs": [
    {
     "data": {
      "text/plain": [
       "'             precision    recall  f1-score   support\\n\\n          0       0.39      0.75      0.51        64\\n          1       0.91      0.59      0.72       289\\n          2       0.47      0.72      0.57        82\\n\\navg / total       0.75      0.64      0.66       435\\n'"
      ]
     },
     "execution_count": 30,
     "metadata": {},
     "output_type": "execute_result"
    }
   ],
   "source": [
    "classification_report(hasil_mnb, label_test)"
   ]
  },
  {
   "cell_type": "code",
   "execution_count": 31,
   "metadata": {},
   "outputs": [],
   "source": [
    "import pickle\n",
    "# Nama fike tempat menyimpan data\n",
    "model = 'model_klasifikasi.data'\n",
    "# Siapkan file untuk ditulis\n",
    "f = open(model, 'wb')\n",
    "# Simpan data nama siswa ke dalam file dengan perintah dump\n",
    "pickle.dump(model_mnb, f)\n",
    "f.close() # tutup setelah file digunakan"
   ]
  },
  {
   "cell_type": "code",
   "execution_count": null,
   "metadata": {},
   "outputs": [],
   "source": []
  }
 ],
 "metadata": {
  "kernelspec": {
   "display_name": "Python 3",
   "language": "python",
   "name": "python3"
  },
  "language_info": {
   "codemirror_mode": {
    "name": "ipython",
    "version": 3
   },
   "file_extension": ".py",
   "mimetype": "text/x-python",
   "name": "python",
   "nbconvert_exporter": "python",
   "pygments_lexer": "ipython3",
   "version": "3.6.5"
  }
 },
 "nbformat": 4,
 "nbformat_minor": 2
}
