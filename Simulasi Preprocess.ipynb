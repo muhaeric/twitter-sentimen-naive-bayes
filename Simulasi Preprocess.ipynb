{
 "cells": [
  {
   "cell_type": "code",
   "execution_count": 108,
   "metadata": {},
   "outputs": [],
   "source": [
    "text= \"Semalem beli nasgor parkirnya di depan indomaret, pas mau balik lgi nyalain motor tbaÃÂ² ada bapakÃÂ² lgsng berdiri gtu, kirain tukang parkir ya. Duit receh gua tinggal gope lagi. Maaf pak cuma ada 500. Saya mah bukan tukang parkir dek. Speechless bgst\""
   ]
  },
  {
   "cell_type": "markdown",
   "metadata": {},
   "source": [
    "## CLEANSING"
   ]
  },
  {
   "cell_type": "code",
   "execution_count": 55,
   "metadata": {},
   "outputs": [],
   "source": [
    "import re\n",
    "import string\n",
    "from tqdm.notebook import tqdm\n",
    "import nltk"
   ]
  },
  {
   "cell_type": "code",
   "execution_count": 56,
   "metadata": {},
   "outputs": [],
   "source": [
    "text = text.translate(str.maketrans(\"\",\"\", string.punctuation)).lower()\n",
    "text = re.sub(r\"http\\S+\", \"\", text)\n",
    "text = re.sub(r\"pic\\S+\", \"\", text)\n",
    "text = re.sub(r\"www\\S+\", \"\", text)\n",
    "text = re.sub(r'[^a-zA-Z0-9]', ' ', text)"
   ]
  },
  {
   "cell_type": "code",
   "execution_count": 57,
   "metadata": {},
   "outputs": [
    {
     "data": {
      "text/plain": [
       "'semalem beli nasgor parkirnya di depan indomaret pas mau balik lgi nyalain motor tba     ada bapak     lgsng berdiri gtu kirain tukang parkir ya duit receh gua tinggal gope lagi maaf pak cuma ada 500 saya mah bukan tukang parkir dek speechless bgst'"
      ]
     },
     "execution_count": 57,
     "metadata": {},
     "output_type": "execute_result"
    }
   ],
   "source": [
    "text"
   ]
  },
  {
   "cell_type": "markdown",
   "metadata": {},
   "source": [
    "## TOKENIZING"
   ]
  },
  {
   "cell_type": "code",
   "execution_count": 58,
   "metadata": {},
   "outputs": [],
   "source": [
    "text = nltk.word_tokenize(text)"
   ]
  },
  {
   "cell_type": "code",
   "execution_count": 59,
   "metadata": {},
   "outputs": [
    {
     "data": {
      "text/plain": [
       "['semalem',\n",
       " 'beli',\n",
       " 'nasgor',\n",
       " 'parkirnya',\n",
       " 'di',\n",
       " 'depan',\n",
       " 'indomaret',\n",
       " 'pas',\n",
       " 'mau',\n",
       " 'balik',\n",
       " 'lgi',\n",
       " 'nyalain',\n",
       " 'motor',\n",
       " 'tba',\n",
       " 'ada',\n",
       " 'bapak',\n",
       " 'lgsng',\n",
       " 'berdiri',\n",
       " 'gtu',\n",
       " 'kirain',\n",
       " 'tukang',\n",
       " 'parkir',\n",
       " 'ya',\n",
       " 'duit',\n",
       " 'receh',\n",
       " 'gua',\n",
       " 'tinggal',\n",
       " 'gope',\n",
       " 'lagi',\n",
       " 'maaf',\n",
       " 'pak',\n",
       " 'cuma',\n",
       " 'ada',\n",
       " '500',\n",
       " 'saya',\n",
       " 'mah',\n",
       " 'bukan',\n",
       " 'tukang',\n",
       " 'parkir',\n",
       " 'dek',\n",
       " 'speechless',\n",
       " 'bgst']"
      ]
     },
     "execution_count": 59,
     "metadata": {},
     "output_type": "execute_result"
    }
   ],
   "source": [
    "text"
   ]
  },
  {
   "cell_type": "markdown",
   "metadata": {},
   "source": [
    "## SLANGWORD CONVERTER "
   ]
  },
  {
   "cell_type": "code",
   "execution_count": 60,
   "metadata": {},
   "outputs": [],
   "source": [
    "import pandas as pd"
   ]
  },
  {
   "cell_type": "code",
   "execution_count": 61,
   "metadata": {},
   "outputs": [],
   "source": [
    "slangword = pd.read_csv(\"Slangword-indonesian.csv\")"
   ]
  },
  {
   "cell_type": "code",
   "execution_count": 62,
   "metadata": {},
   "outputs": [],
   "source": [
    "def slang(text):\n",
    "    ul = 0\n",
    "    for a in slangword['slang']:\n",
    "        w = 0\n",
    "        for kt in text:\n",
    "            if kt ==a:\n",
    "                text[w] = slangword['formal'][ul]\n",
    "            w = w+1\n",
    "        ul=ul+1\n",
    "    kal = \"\"\n",
    "    for kl in text:\n",
    "        kal = kal + \" \" + kl\n",
    "    text = kal\n",
    "    return kal"
   ]
  },
  {
   "cell_type": "code",
   "execution_count": 63,
   "metadata": {},
   "outputs": [],
   "source": [
    "kalimat = slang(text)"
   ]
  },
  {
   "cell_type": "markdown",
   "metadata": {},
   "source": [
    "## STOPWORD REMOVAL"
   ]
  },
  {
   "cell_type": "code",
   "execution_count": 64,
   "metadata": {},
   "outputs": [],
   "source": [
    "from Sastrawi.StopWordRemover.StopWordRemoverFactory import StopWordRemoverFactory\n",
    "import string\n",
    "factory = StopWordRemoverFactory()\n",
    "stop = stopword.remove(kalimat)"
   ]
  },
  {
   "cell_type": "code",
   "execution_count": 65,
   "metadata": {},
   "outputs": [
    {
     "data": {
      "text/plain": [
       "' semalem beli nasgor parkirnya depan indomart pas mau balik nyalain motor tiba bapak langsung berdiri mengira tukang parkir duit receh gua tinggal gope maaf pak cuma 500 mah bukan tukang parkir dek speechless bangsat'"
      ]
     },
     "execution_count": 65,
     "metadata": {},
     "output_type": "execute_result"
    }
   ],
   "source": [
    "stop"
   ]
  },
  {
   "cell_type": "markdown",
   "metadata": {},
   "source": [
    "## STEMMING"
   ]
  },
  {
   "cell_type": "code",
   "execution_count": 66,
   "metadata": {},
   "outputs": [],
   "source": [
    "from Sastrawi.Stemmer.StemmerFactory import StemmerFactory\n",
    "stem_factory = StemmerFactory()\n",
    "stemmer = stem_factory.create_stemmer()"
   ]
  },
  {
   "cell_type": "code",
   "execution_count": 67,
   "metadata": {},
   "outputs": [],
   "source": [
    "stem = stemmer.stem(stop)"
   ]
  },
  {
   "cell_type": "code",
   "execution_count": 68,
   "metadata": {},
   "outputs": [
    {
     "data": {
      "text/plain": [
       "'semalem beli nasgor parkir depan indomart pas mau balik nyalain motor tiba bapak langsung diri ira tukang parkir duit receh gua tinggal gope maaf pak cuma 500 mah bukan tukang parkir dek speechless bangsat'"
      ]
     },
     "execution_count": 68,
     "metadata": {},
     "output_type": "execute_result"
    }
   ],
   "source": [
    "stem"
   ]
  },
  {
   "cell_type": "code",
   "execution_count": 92,
   "metadata": {},
   "outputs": [],
   "source": [
    "data = pd.read_csv(\"data_clean.csv\")"
   ]
  },
  {
   "cell_type": "code",
   "execution_count": 105,
   "metadata": {},
   "outputs": [],
   "source": [
    "clean = data.loc[0,'text']"
   ]
  },
  {
   "cell_type": "code",
   "execution_count": 106,
   "metadata": {},
   "outputs": [
    {
     "name": "stdout",
     "output_type": "stream",
     "text": [
      "semalem beli nasgor parkir depan indomart pas mau balik nyalain motor tiba bapak langsung diri ira tukang parkir duit receh gua tinggal gope maaf pak cuma 500 mah bukan tukang parkir dek speechless bangsat\n"
     ]
    }
   ],
   "source": [
    "print(clean)"
   ]
  },
  {
   "cell_type": "code",
   "execution_count": 107,
   "metadata": {},
   "outputs": [
    {
     "name": "stdout",
     "output_type": "stream",
     "text": [
      "semalem beli nasgor parkir depan indomart pas mau balik nyalain motor tiba bapak langsung diri ira tukang parkir duit receh gua tinggal gope maaf pak cuma 500 mah bukan tukang parkir dek speechless bangsat\n"
     ]
    }
   ],
   "source": [
    "print(stem)"
   ]
  }
 ],
 "metadata": {
  "kernelspec": {
   "display_name": "Python 3",
   "language": "python",
   "name": "python3"
  },
  "language_info": {
   "codemirror_mode": {
    "name": "ipython",
    "version": 3
   },
   "file_extension": ".py",
   "mimetype": "text/x-python",
   "name": "python",
   "nbconvert_exporter": "python",
   "pygments_lexer": "ipython3",
   "version": "3.6.5"
  }
 },
 "nbformat": 4,
 "nbformat_minor": 2
}
